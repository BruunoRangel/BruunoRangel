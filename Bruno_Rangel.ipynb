{
  "nbformat": 4,
  "nbformat_minor": 0,
  "metadata": {
    "colab": {
      "name": "Bruno_Rangel",
      "provenance": [],
      "collapsed_sections": [],
      "include_colab_link": true
    },
    "kernelspec": {
      "name": "python3",
      "display_name": "Python 3"
    },
    "language_info": {
      "name": "python"
    }
  },
  "cells": [
    {
      "cell_type": "markdown",
      "metadata": {
        "id": "view-in-github",
        "colab_type": "text"
      },
      "source": [
        "<a href=\"https://colab.research.google.com/github/BruunoRangel/BruunoRangel/blob/main/Bruno_Rangel.ipynb\" target=\"_parent\"><img src=\"https://colab.research.google.com/assets/colab-badge.svg\" alt=\"Open In Colab\"/></a>"
      ]
    },
    {
      "cell_type": "markdown",
      "source": [
        "*Coloque* seu nome"
      ],
      "metadata": {
        "id": "EjjkifA3S8P6"
      }
    },
    {
      "cell_type": "code",
      "source": [
        "print('Meu nome é: Bruno Rangel Balbino dos Santos')"
      ],
      "metadata": {
        "id": "-5KKGR3vS9_g"
      },
      "execution_count": null,
      "outputs": []
    },
    {
      "cell_type": "markdown",
      "source": [
        "##Exercícios de Processamento de Dados##\n",
        "Nesta parte pode-se usar as bibliotecas nativas do python como a collections, re e random. Também pode-se usar o NumPy."
      ],
      "metadata": {
        "id": "V95d4R2DTMiH"
      }
    },
    {
      "cell_type": "markdown",
      "source": [
        "##Exercício 1.1##\n",
        "Crie um dicionário com os k itens mais frequentes de uma lista.\n",
        "\n",
        "Por exemplo, dada a lista de itens L=['a', 'a', 'd', 'b', 'd', 'c', 'e', 'a', 'b', 'e', 'e', 'a'] e k=2, o resultado deve ser um dicionário cuja chave é o item e o valor é a sua frequência: {'a': 4, 'e': 3}"
      ],
      "metadata": {
        "id": "qJLMmVqBTUKR"
      }
    },
    {
      "cell_type": "code",
      "source": [
        "def top_k(L, k):\n",
        "    # Escreva aqui o código\n",
        "    from collections import Counter\n",
        "    c = dict(list((Counter(L).most_common(k)))) \n",
        "    return c"
      ],
      "metadata": {
        "id": "6KZ1wR83TfAl"
      },
      "execution_count": null,
      "outputs": []
    },
    {
      "cell_type": "markdown",
      "source": [
        "Mostre que sua implementação está correta usando uma entrada com poucos itens:"
      ],
      "metadata": {
        "id": "FBosHWjYTmeA"
      }
    },
    {
      "cell_type": "code",
      "source": [
        "L = ['f', 'a', 'a', 'd', 'b', 'd', 'c', 'e', 'a', 'b', 'e', 'e', 'a', 'd']\n",
        "k = 3\n",
        "resultado = top_k(L=L, k=k)\n",
        "print(f'resultado: {resultado}')"
      ],
      "metadata": {
        "id": "-Ifh0faJTpAF",
        "colab": {
          "base_uri": "https://localhost:8080/"
        },
        "outputId": "f552feb0-31e4-47b1-e1a5-2bb75892d9ed"
      },
      "execution_count": null,
      "outputs": [
        {
          "output_type": "stream",
          "name": "stdout",
          "text": [
            "resultado: {'a': 4, 'd': 3, 'e': 3}\n"
          ]
        }
      ]
    },
    {
      "cell_type": "markdown",
      "source": [
        "Mostre que sua implementação é eficiente usando uma entrada com 10M de itens:\n",
        "\n",
        "> Bloco com recuo\n",
        "\n"
      ],
      "metadata": {
        "id": "Gp0W1rVRTsWe"
      }
    },
    {
      "cell_type": "code",
      "source": [
        "import random\n",
        "L = random.choices('abcdefghijklmnopqrstuvwxyz', k=10_000_000)\n",
        "k = 10000\n"
      ],
      "metadata": {
        "id": "lGcY3-KsTs_W"
      },
      "execution_count": null,
      "outputs": []
    },
    {
      "cell_type": "code",
      "source": [
        "%%timeit\n",
        "resultado = top_k(L=L, k=k)\n",
        "print(f'resultado: {resultado}')"
      ],
      "metadata": {
        "id": "0Fetdh68TvSu",
        "colab": {
          "base_uri": "https://localhost:8080/"
        },
        "outputId": "d6436ee5-7b84-46a1-98ed-67709255f1a0"
      },
      "execution_count": null,
      "outputs": [
        {
          "output_type": "stream",
          "name": "stdout",
          "text": [
            "resultado: {'g': 385714, 'b': 385664, 'v': 385629, 'm': 385509, 's': 385199, 'q': 385179, 'p': 385130, 'n': 385020, 'a': 384911, 'u': 384847, 'h': 384825, 'i': 384822, 'e': 384799, 'k': 384735, 'f': 384620, 'y': 384561, 'z': 384456, 'r': 384442, 'c': 384198, 'd': 384163, 'j': 383988, 't': 383936, 'x': 383670, 'l': 383625, 'w': 383425, 'o': 382933}\n",
            "resultado: {'g': 385714, 'b': 385664, 'v': 385629, 'm': 385509, 's': 385199, 'q': 385179, 'p': 385130, 'n': 385020, 'a': 384911, 'u': 384847, 'h': 384825, 'i': 384822, 'e': 384799, 'k': 384735, 'f': 384620, 'y': 384561, 'z': 384456, 'r': 384442, 'c': 384198, 'd': 384163, 'j': 383988, 't': 383936, 'x': 383670, 'l': 383625, 'w': 383425, 'o': 382933}\n",
            "resultado: {'g': 385714, 'b': 385664, 'v': 385629, 'm': 385509, 's': 385199, 'q': 385179, 'p': 385130, 'n': 385020, 'a': 384911, 'u': 384847, 'h': 384825, 'i': 384822, 'e': 384799, 'k': 384735, 'f': 384620, 'y': 384561, 'z': 384456, 'r': 384442, 'c': 384198, 'd': 384163, 'j': 383988, 't': 383936, 'x': 383670, 'l': 383625, 'w': 383425, 'o': 382933}\n",
            "resultado: {'g': 385714, 'b': 385664, 'v': 385629, 'm': 385509, 's': 385199, 'q': 385179, 'p': 385130, 'n': 385020, 'a': 384911, 'u': 384847, 'h': 384825, 'i': 384822, 'e': 384799, 'k': 384735, 'f': 384620, 'y': 384561, 'z': 384456, 'r': 384442, 'c': 384198, 'd': 384163, 'j': 383988, 't': 383936, 'x': 383670, 'l': 383625, 'w': 383425, 'o': 382933}\n",
            "resultado: {'g': 385714, 'b': 385664, 'v': 385629, 'm': 385509, 's': 385199, 'q': 385179, 'p': 385130, 'n': 385020, 'a': 384911, 'u': 384847, 'h': 384825, 'i': 384822, 'e': 384799, 'k': 384735, 'f': 384620, 'y': 384561, 'z': 384456, 'r': 384442, 'c': 384198, 'd': 384163, 'j': 383988, 't': 383936, 'x': 383670, 'l': 383625, 'w': 383425, 'o': 382933}\n",
            "resultado: {'g': 385714, 'b': 385664, 'v': 385629, 'm': 385509, 's': 385199, 'q': 385179, 'p': 385130, 'n': 385020, 'a': 384911, 'u': 384847, 'h': 384825, 'i': 384822, 'e': 384799, 'k': 384735, 'f': 384620, 'y': 384561, 'z': 384456, 'r': 384442, 'c': 384198, 'd': 384163, 'j': 383988, 't': 383936, 'x': 383670, 'l': 383625, 'w': 383425, 'o': 382933}\n",
            "1 loop, best of 5: 543 ms per loop\n"
          ]
        }
      ]
    },
    {
      "cell_type": "markdown",
      "source": [
        "Exercício 1.2\n",
        "Em processamento de linguagem natural, é comum convertemos as palavras de um texto para uma lista de identificadores dessas palavras. Dado o dicionário V abaixo onde as chaves são palavras e os valores são seus respectivos identificadores, converta o texto D para uma lista de identificadores.\n",
        "\n",
        "Palavras que não existem no dicionário deverão ser convertidas para o identificador do token unknown.\n",
        "\n",
        "O código deve ser insensível a maiúsculas (case-insensitive).\n",
        "\n",
        "Se atente que pontuações (vírgulas, ponto final, etc) também são consideradas palavras."
      ],
      "metadata": {
        "id": "yoZLNvK3UGM8"
      }
    },
    {
      "cell_type": "code",
      "source": [
        "def tokens_to_ids(text, vocabulary):\n",
        "    # escreva o código aqui. \n",
        "    txt = re.findall(r\"\\w+|[^\\w\\s]\", D.lower())  \n",
        "    V1 = set(vocabulary)\n",
        "    ind = []\n",
        "    for i in txt:\n",
        "      i1 = set([i])\n",
        "      if i1.issubset(V1) == True:\n",
        "        ind.append(vocabulary[str(i)])\n",
        "      else:\n",
        "        ind.append(vocabulary[\"unknown\"])\n",
        "    return ind"
      ],
      "metadata": {
        "id": "6V0R7myuUJx1"
      },
      "execution_count": null,
      "outputs": []
    },
    {
      "cell_type": "markdown",
      "source": [
        "[texto do link](https://)Mostre que sua implementação esta correta com um exemplo pequeno:"
      ],
      "metadata": {
        "id": "9LPDubnyUM26"
      }
    },
    {
      "cell_type": "code",
      "source": [
        "  import re\n",
        "  V = {'eu': 1, 'de': 2, 'gosto': 3, 'comer': 4, '.': 5, 'unknown': -1}\n",
        "  D = 'Eu gosto de comer pizza.'\n",
        "  print(\"Lista de indificadores =\",str(tokens_to_ids(D, V)))"
      ],
      "metadata": {
        "id": "89sejHzcUPlP",
        "colab": {
          "base_uri": "https://localhost:8080/"
        },
        "outputId": "925772f3-dc16-4f2d-cfa7-7968a466df85"
      },
      "execution_count": null,
      "outputs": [
        {
          "output_type": "stream",
          "name": "stdout",
          "text": [
            "Lista de indificadores = [1, 3, 2, 4, -1, 5]\n"
          ]
        }
      ]
    },
    {
      "cell_type": "markdown",
      "source": [
        "Mostre que sua implementação é eficiente com um exemplo grande:\n",
        "\n",
        "\n",
        "\n"
      ],
      "metadata": {
        "id": "BiwrERuYUU6o"
      }
    },
    {
      "cell_type": "code",
      "source": [
        "\n",
        "V = {'eu': 1, 'de': 2, 'gosto': 3, 'comer': 4, '.': 5, 'unknown': -1}\n",
        "D = ' '.join(1_000_000 * (['Eu gosto de comer pizza.']))"
      ],
      "metadata": {
        "id": "BIMRDpwTUmqF"
      },
      "execution_count": null,
      "outputs": []
    },
    {
      "cell_type": "code",
      "source": [
        "%%timeit\n",
        "resultado = tokens_to_ids(D, V)"
      ],
      "metadata": {
        "id": "CQfG5agoUoY5",
        "colab": {
          "base_uri": "https://localhost:8080/"
        },
        "outputId": "4917bb57-790c-4195-837e-bd26f541e996"
      },
      "execution_count": null,
      "outputs": [
        {
          "output_type": "stream",
          "name": "stdout",
          "text": [
            "1 loop, best of 5: 5.31 s per loop\n"
          ]
        }
      ]
    },
    {
      "cell_type": "markdown",
      "source": [
        "## Exercício 1.3\n",
        "\n",
        "Em aprendizado profundo é comum termos que lidar com arquivos muito grandes.\n",
        "\n",
        "Dado um arquivo de texto onde cada item é separado por `\\n`, escreva um programa que amostre `k` itens desse arquivo aleatoriamente.\n",
        "\n",
        "Nota 1: Assuma amostragem de uma distribuição uniforme, ou seja, todos os itens tem a mesma probablidade de amostragem.\n",
        "\n",
        "Nota 2: Assuma que o arquivo não cabe em memória.\n",
        "\n",
        "Nota 3: Utilize apenas bibliotecas nativas do python."
      ],
      "metadata": {
        "id": "HyeKvysIUqKl"
      }
    },
    {
      "cell_type": "code",
      "source": [
        "def sample(path: str, k: int):\n",
        "    # Escreva o seu código aqui.\n",
        "    arq = open(path)\n",
        "    linhas = arq.readlines()\n",
        "    l = (np.random.rand((n_samples)) * total_size).astype(np.int)\n",
        "    amostras = []\n",
        "    for i in l:\n",
        "      amostras.append(linhas[i])  \n",
        "\n",
        "    return amostras"
      ],
      "metadata": {
        "id": "JcZKqx2vU0ZM"
      },
      "execution_count": null,
      "outputs": []
    },
    {
      "cell_type": "markdown",
      "source": [
        "Mostre que sua implementação está correta com um exemplo pequeno:"
      ],
      "metadata": {
        "id": "Jk6QNNkBU9_E"
      }
    },
    {
      "cell_type": "code",
      "source": [
        "import numpy as np\n",
        "filename = 'small.txt'\n",
        "total_size = 100\n",
        "n_samples = 10\n",
        "\n",
        "with open(filename, 'w') as fout:\n",
        "    fout.write('\\n'.join(f'line {i}' for i in range(total_size)))\n",
        "\n",
        "samples = sample(path=filename, k=n_samples)\n",
        "print(samples)\n",
        "print(len(samples) == n_samples)"
      ],
      "metadata": {
        "id": "Gf0cTqWPU_pf",
        "colab": {
          "base_uri": "https://localhost:8080/"
        },
        "outputId": "7a230066-d0a3-4f43-cba0-bfa8e7f685d7"
      },
      "execution_count": null,
      "outputs": [
        {
          "output_type": "stream",
          "name": "stdout",
          "text": [
            "['line 15\\n', 'line 72\\n', 'line 28\\n', 'line 40\\n', 'line 76\\n', 'line 38\\n', 'line 43\\n', 'line 36\\n', 'line 52\\n', 'line 50\\n']\n",
            "True\n"
          ]
        },
        {
          "output_type": "stream",
          "name": "stderr",
          "text": [
            "/usr/local/lib/python3.7/dist-packages/ipykernel_launcher.py:5: DeprecationWarning: `np.int` is a deprecated alias for the builtin `int`. To silence this warning, use `int` by itself. Doing this will not modify any behavior and is safe. When replacing `np.int`, you may wish to use e.g. `np.int64` or `np.int32` to specify the precision. If you wish to review your current use, check the release note link for additional information.\n",
            "Deprecated in NumPy 1.20; for more details and guidance: https://numpy.org/devdocs/release/1.20.0-notes.html#deprecations\n",
            "  \"\"\"\n"
          ]
        }
      ]
    },
    {
      "cell_type": "markdown",
      "source": [
        "Mostre que sua implementação é eficiente com um exemplo grande:"
      ],
      "metadata": {
        "id": "2-mqa5IHVp35"
      }
    },
    {
      "cell_type": "code",
      "source": [
        "filename = 'large.txt'\n",
        "total_size = 1_000_000\n",
        "n_samples = 10000\n",
        "\n",
        "with open(filename, 'w') as fout:\n",
        "    fout.write('\\n'.join(f'line {i}' for i in range(total_size)))"
      ],
      "metadata": {
        "id": "C8y_WatsVuZT"
      },
      "execution_count": null,
      "outputs": []
    },
    {
      "cell_type": "code",
      "source": [
        "%%timeit\n",
        "samples = sample(path=filename, k=n_samples)\n",
        "assert len(samples) == n_samples"
      ],
      "metadata": {
        "id": "2ndvOCSYVwkd",
        "colab": {
          "base_uri": "https://localhost:8080/"
        },
        "outputId": "dc17e2c7-dc9f-4451-a415-55c81d05c537"
      },
      "execution_count": null,
      "outputs": [
        {
          "output_type": "stream",
          "name": "stderr",
          "text": [
            "/usr/local/lib/python3.7/dist-packages/ipykernel_launcher.py:5: DeprecationWarning: `np.int` is a deprecated alias for the builtin `int`. To silence this warning, use `int` by itself. Doing this will not modify any behavior and is safe. When replacing `np.int`, you may wish to use e.g. `np.int64` or `np.int32` to specify the precision. If you wish to review your current use, check the release note link for additional information.\n",
            "Deprecated in NumPy 1.20; for more details and guidance: https://numpy.org/devdocs/release/1.20.0-notes.html#deprecations\n",
            "  \"\"\"\n"
          ]
        },
        {
          "output_type": "stream",
          "name": "stdout",
          "text": [
            "10 loops, best of 5: 84.4 ms per loop\n"
          ]
        }
      ]
    },
    {
      "cell_type": "markdown",
      "source": [
        "Parte 2:\n",
        "Exercícios de Numpy\n",
        "Nesta parte deve-se usar apenas a biblioteca NumPy. Aqui não se pode usar o PyTorch."
      ],
      "metadata": {
        "id": "lBckt7PZVzcg"
      }
    },
    {
      "cell_type": "markdown",
      "source": [
        "##Exercício 2.1\n",
        "\n",
        "Quantos operações de ponto flutuante (flops) de soma e de multiplicação tem a multiplicação matricial $AB$, sendo que a matriz $A$ tem tamanho $m \\times n$ e a matriz $B$ tem tamanho $n \\times p$?"
      ],
      "metadata": {
        "id": "aeIrt7ipV2ht"
      }
    },
    {
      "cell_type": "markdown",
      "source": [
        "Resposta:\n",
        "- número de somas: sendo m número de linhas n o número de colunas de A \n",
        "e n o número de linhas e p o número de colunas de B a quntidade total de somas será: $m \\times (n$-1) $\\times p$\n",
        "- número de multiplicações: com as mesmas considerações para soma a quantidade de multiplicações: $m \\times n$ $\\times p$"
      ],
      "metadata": {
        "id": "scVzeAuoV9Lm"
      }
    },
    {
      "cell_type": "markdown",
      "source": [
        "Exercício 2.2\n",
        "Em programação matricial, não se faz o loop em cada elemento da matriz, mas sim, utiliza-se operações matriciais.\n",
        "\n",
        "Dada a matriz A abaixo, calcule a média dos valores de cada linha sem utilizar laços explícitos.\n",
        "\n",
        "Utilize apenas a biblioteca numpy."
      ],
      "metadata": {
        "id": "IuEyIU4uWQfE"
      }
    },
    {
      "cell_type": "code",
      "source": [
        "import numpy as np"
      ],
      "metadata": {
        "id": "rYC36-qDWStR"
      },
      "execution_count": null,
      "outputs": []
    },
    {
      "cell_type": "code",
      "source": [
        "A = np.arange(24).reshape(4, 6)\n",
        "print(A)"
      ],
      "metadata": {
        "id": "sLaATzxCWUOn",
        "colab": {
          "base_uri": "https://localhost:8080/"
        },
        "outputId": "4c0984ef-836d-4433-8ccc-1d5453fc5328"
      },
      "execution_count": null,
      "outputs": [
        {
          "output_type": "stream",
          "name": "stdout",
          "text": [
            "[[ 0  1  2  3  4  5]\n",
            " [ 6  7  8  9 10 11]\n",
            " [12 13 14 15 16 17]\n",
            " [18 19 20 21 22 23]]\n"
          ]
        }
      ]
    },
    {
      "cell_type": "code",
      "source": [
        "media = np.mean(A,axis=1)\n",
        "print(media)"
      ],
      "metadata": {
        "id": "DVBUuWlLWWHy",
        "colab": {
          "base_uri": "https://localhost:8080/"
        },
        "outputId": "5c4c6da5-9873-401b-87ab-1568ec7907ee"
      },
      "execution_count": null,
      "outputs": [
        {
          "output_type": "stream",
          "name": "stdout",
          "text": [
            "[ 2.5  8.5 14.5 20.5]\n"
          ]
        }
      ]
    },
    {
      "cell_type": "markdown",
      "source": [
        "## Exercício 2.3\n",
        "\n",
        "Seja a matriz $C$ que é a normalização da matriz $A$:\n",
        "$$ C(i,j) = \\frac{A(i,j) - A_{min}}{A_{max} - A_{min}} $$\n",
        "\n",
        "Normalizar a matriz `A` do exercício acima de forma que seus valores fiquem entre 0 e 1."
      ],
      "metadata": {
        "id": "lGCy20hWWdIT"
      }
    },
    {
      "cell_type": "code",
      "source": [
        "C = (A - A.min())/(A.max() - A.min())\n",
        "print(C) \n"
      ],
      "metadata": {
        "id": "dQZXLIrxWrzP",
        "colab": {
          "base_uri": "https://localhost:8080/"
        },
        "outputId": "35179d9e-d800-48e3-8d2f-50d2235a529d"
      },
      "execution_count": null,
      "outputs": [
        {
          "output_type": "stream",
          "name": "stdout",
          "text": [
            "[[0.         0.04347826 0.08695652 0.13043478 0.17391304 0.2173913 ]\n",
            " [0.26086957 0.30434783 0.34782609 0.39130435 0.43478261 0.47826087]\n",
            " [0.52173913 0.56521739 0.60869565 0.65217391 0.69565217 0.73913043]\n",
            " [0.7826087  0.82608696 0.86956522 0.91304348 0.95652174 1.        ]]\n"
          ]
        }
      ]
    },
    {
      "cell_type": "markdown",
      "source": [
        "Exercício 2.4\n",
        "Modificar o exercício anterior de forma que os valores de cada coluna da matriz A sejam normalizados entre 0 e 1 independentemente dos valores das outras colunas."
      ],
      "metadata": {
        "id": "-vP5Q8D0WtvN"
      }
    },
    {
      "cell_type": "code",
      "source": [
        "C = (A - np.min(A,axis=0))/np.ptp(A,axis=0)\n",
        "print(C)"
      ],
      "metadata": {
        "id": "EKNqJ87DWwR_",
        "colab": {
          "base_uri": "https://localhost:8080/"
        },
        "outputId": "e9b8a9c2-661f-4cd5-fdfe-99380caa8d45"
      },
      "execution_count": null,
      "outputs": [
        {
          "output_type": "stream",
          "name": "stdout",
          "text": [
            "[[0.         0.         0.         0.         0.         0.        ]\n",
            " [0.33333333 0.33333333 0.33333333 0.33333333 0.33333333 0.33333333]\n",
            " [0.66666667 0.66666667 0.66666667 0.66666667 0.66666667 0.66666667]\n",
            " [1.         1.         1.         1.         1.         1.        ]]\n"
          ]
        }
      ]
    },
    {
      "cell_type": "markdown",
      "source": [
        "Exercício 2.5\n",
        "Modificar o exercício anterior de forma que os valores de cada linha da matriz A sejam normalizados entre 0 e 1 independentemente dos valores das outras linhas."
      ],
      "metadata": {
        "id": "clqA4S6AWyoD"
      }
    },
    {
      "cell_type": "code",
      "source": [
        "# Escreva sua solução aqui.\n",
        "C = (A - np.reshape(np.min(A,axis=1),(4,1)))/np.reshape(np.ptp(A,axis=1),(4,1))\n",
        "print(C)"
      ],
      "metadata": {
        "id": "95oEAQdfW2Km",
        "colab": {
          "base_uri": "https://localhost:8080/"
        },
        "outputId": "c64b851f-a0de-4ffa-eb81-2740d12adc4c"
      },
      "execution_count": null,
      "outputs": [
        {
          "output_type": "stream",
          "name": "stdout",
          "text": [
            "[[0.  0.2 0.4 0.6 0.8 1. ]\n",
            " [0.  0.2 0.4 0.6 0.8 1. ]\n",
            " [0.  0.2 0.4 0.6 0.8 1. ]\n",
            " [0.  0.2 0.4 0.6 0.8 1. ]]\n"
          ]
        }
      ]
    },
    {
      "cell_type": "markdown",
      "source": [
        "Exercício 2.6\n",
        "A função softmax é bastante usada em apredizado de máquina para converter uma lista de números para uma distribuição de probabilidade, isto é, os números ficarão normalizados entre zero e um e sua soma será igual à um.\n",
        "\n",
        "Implemente a função softmax com suporte para batches, ou seja, o softmax deve ser aplicado a cada linha da matriz. Deve-se usar apenas a biblioteca numpy. Se atente que a exponenciação gera estouro de representação quando os números da entrada são muito grandes. Tente corrigir isto."
      ],
      "metadata": {
        "id": "8bXxog0NW9kq"
      }
    },
    {
      "cell_type": "code",
      "source": [
        "import numpy as np\n",
        "\n",
        "\n",
        "def softmax(A):\n",
        "    '''\n",
        "    Aplica a função de softmax à matriz `A`.\n",
        "\n",
        "    Entrada:\n",
        "      `A` é uma matriz M x N, onde M é o número de exemplos a serem processados\n",
        "      independentemente e N é o tamanho de cada exemplo.\n",
        "    \n",
        "    Saída:\n",
        "      Uma matriz M x N, onde a soma de cada linha é igual a um.\n",
        "    '''\n",
        "    # Escreva sua solução aqui.\n",
        "    N = np.log(A  + (np.abs(A.min()) + 1))\n",
        "    A = np.exp(N) / np.reshape(np.sum(np.exp(N),axis=1),(A.shape[0],1))\n",
        "      \n",
        "    return A"
      ],
      "metadata": {
        "id": "nBb8A2T0W_9X"
      },
      "execution_count": null,
      "outputs": []
    },
    {
      "cell_type": "markdown",
      "source": [
        "Mostre que sua implementação está correta usando uma matriz pequena como \n",
        "\n"
      ],
      "metadata": {
        "id": "tySjklQHXiQ6"
      }
    },
    {
      "cell_type": "code",
      "source": [
        "A = np.array([[0.5, -1, 1000],\n",
        "              [-2,   0, 0.5]])\n",
        "\n",
        "A = softmax(A)\n",
        "print(A)"
      ],
      "metadata": {
        "id": "PzDv-1-vXl0V",
        "colab": {
          "base_uri": "https://localhost:8080/"
        },
        "outputId": "7a23674c-3460-4405-d86f-5b9fa90bf809"
      },
      "execution_count": null,
      "outputs": [
        {
          "output_type": "stream",
          "name": "stdout",
          "text": [
            "[[0.0034705  0.00198314 0.99454636]\n",
            " [0.13333333 0.4        0.46666667]]\n"
          ]
        }
      ]
    },
    {
      "cell_type": "markdown",
      "source": [
        "O código a seguir verifica se sua implementação do softmax está correta.\n",
        "\n",
        "A soma de cada linha de A deve ser 1;\n",
        "Os valores devem estar entre 0 e 1"
      ],
      "metadata": {
        "id": "Y5azVReNXoAI"
      }
    },
    {
      "cell_type": "code",
      "source": [
        "np.allclose(softmax(A).sum(axis=1), 1) and softmax(A).min() >= 0 and softmax(A).max() <= 1"
      ],
      "metadata": {
        "id": "SDD0Mk2zXtVi",
        "colab": {
          "base_uri": "https://localhost:8080/"
        },
        "outputId": "0329c9fe-b765-4613-d435-a2016ed417fc"
      },
      "execution_count": null,
      "outputs": [
        {
          "output_type": "execute_result",
          "data": {
            "text/plain": [
              "True"
            ]
          },
          "metadata": {},
          "execution_count": 44
        }
      ]
    },
    {
      "cell_type": "markdown",
      "source": [
        "Mostre que sua implementação é eficiente usando uma matriz grande como entrada:"
      ],
      "metadata": {
        "id": "pvuycHXuXzvd"
      }
    },
    {
      "cell_type": "code",
      "source": [
        "A = np.random.uniform(low=-10, high=10, size=(128, 100_000))\n"
      ],
      "metadata": {
        "id": "PXQLPDqeX2rZ"
      },
      "execution_count": null,
      "outputs": []
    },
    {
      "cell_type": "code",
      "source": [
        "%%timeit\n",
        "softmax(A)"
      ],
      "metadata": {
        "id": "7NJ2Ii4tX4PC",
        "colab": {
          "base_uri": "https://localhost:8080/"
        },
        "outputId": "9c5cab03-9b49-4d90-e726-1fb16bb332bb"
      },
      "execution_count": null,
      "outputs": [
        {
          "output_type": "stream",
          "name": "stdout",
          "text": [
            "1 loop, best of 5: 831 ms per loop\n"
          ]
        }
      ]
    },
    {
      "cell_type": "code",
      "source": [
        "SM = softmax(A)\n",
        "np.allclose(SM.sum(axis=1), 1) and SM.min() >= 0 and SM.max() <= 1"
      ],
      "metadata": {
        "id": "-1gjTVxxYTG6",
        "colab": {
          "base_uri": "https://localhost:8080/"
        },
        "outputId": "127b187d-abba-4037-c3e1-bbebe21c0d32"
      },
      "execution_count": null,
      "outputs": [
        {
          "output_type": "execute_result",
          "data": {
            "text/plain": [
              "True"
            ]
          },
          "metadata": {},
          "execution_count": 47
        }
      ]
    },
    {
      "cell_type": "markdown",
      "source": [
        "Exercício 2.7\n",
        "A codificação one-hot é usada para codificar entradas categóricas. É uma codificação onde apenas um bit é 1 e os demais são zero, conforme a tabela a seguir.\n",
        "\n",
        "| Decimal | Binary | One-hot\n",
        "| ------- | ------ | -------\n",
        "| 0 | 000    | 1 0 0 0 0 0 0 0\n",
        "| 1 | 001    | 0 1 0 0 0 0 0 0\n",
        "| 2 | 010    | 0 0 1 0 0 0 0 0\n",
        "| 3 | 011    | 0 0 0 1 0 0 0 0\n",
        "| 4 | 100    | 0 0 0 0 1 0 0 0\n",
        "| 5 | 101    | 0 0 0 0 0 1 0 0\n",
        "| 6 | 110    | 0 0 0 0 0 0 1 0\n",
        "| 7 | 111    | 0 0 0 0 0 0 0 1"
      ],
      "metadata": {
        "id": "8D0enetBYrU6"
      }
    },
    {
      "cell_type": "markdown",
      "source": [
        "Implemente a função one_hot(y, n_classes) que codifique o vetor de inteiros y que possuem valores entre 0 e n_classes-1."
      ],
      "metadata": {
        "id": "ety1VDY3Y3WQ"
      }
    },
    {
      "cell_type": "code",
      "source": [
        "def one_hot(y, n_classes):\n",
        "    # Escreva seu código aqui.\n",
        "    m = np.arange(y.size)\n",
        "    shape = (y.size, N_CLASSES)\n",
        "    one_hot = np.zeros(shape)\n",
        "    one_hot[m, y] = 1\n",
        "    return one_hot\n",
        "    "
      ],
      "metadata": {
        "id": "s0vie4QLY72d"
      },
      "execution_count": null,
      "outputs": []
    },
    {
      "cell_type": "code",
      "source": [
        "import numpy as np \n",
        "N_CLASSES = 9\n",
        "N_SAMPLES = 10\n",
        "y = (np.random.rand((N_SAMPLES)) * N_CLASSES).astype(np.int)\n",
        "print(one_hot(y, N_CLASSES))"
      ],
      "metadata": {
        "id": "oj0fPakOY-Iw",
        "colab": {
          "base_uri": "https://localhost:8080/"
        },
        "outputId": "040890b5-78ef-4cc5-b80e-8a267248e6f0"
      },
      "execution_count": null,
      "outputs": [
        {
          "output_type": "stream",
          "name": "stdout",
          "text": [
            "[[1. 0. 0. 0. 0. 0. 0. 0. 0.]\n",
            " [1. 0. 0. 0. 0. 0. 0. 0. 0.]\n",
            " [0. 0. 0. 0. 0. 1. 0. 0. 0.]\n",
            " [0. 0. 0. 0. 0. 0. 1. 0. 0.]\n",
            " [0. 0. 0. 0. 1. 0. 0. 0. 0.]\n",
            " [0. 0. 1. 0. 0. 0. 0. 0. 0.]\n",
            " [0. 0. 0. 0. 0. 0. 0. 0. 1.]\n",
            " [0. 0. 0. 0. 0. 0. 0. 0. 1.]\n",
            " [0. 1. 0. 0. 0. 0. 0. 0. 0.]\n",
            " [1. 0. 0. 0. 0. 0. 0. 0. 0.]]\n"
          ]
        },
        {
          "output_type": "stream",
          "name": "stderr",
          "text": [
            "/usr/local/lib/python3.7/dist-packages/ipykernel_launcher.py:4: DeprecationWarning: `np.int` is a deprecated alias for the builtin `int`. To silence this warning, use `int` by itself. Doing this will not modify any behavior and is safe. When replacing `np.int`, you may wish to use e.g. `np.int64` or `np.int32` to specify the precision. If you wish to review your current use, check the release note link for additional information.\n",
            "Deprecated in NumPy 1.20; for more details and guidance: https://numpy.org/devdocs/release/1.20.0-notes.html#deprecations\n",
            "  after removing the cwd from sys.path.\n"
          ]
        }
      ]
    },
    {
      "cell_type": "markdown",
      "source": [
        "Mostre que sua implementação é eficiente usando uma matriz grande como entrada:"
      ],
      "metadata": {
        "id": "WLRsklQJZC5v"
      }
    },
    {
      "cell_type": "code",
      "source": [
        "N_SAMPLES = 100_000\n",
        "N_CLASSES = 1_000\n",
        "y = (np.random.rand((N_SAMPLES)) * N_CLASSES).astype(np.int)\n",
        "print(y)"
      ],
      "metadata": {
        "id": "lwSGQckGZGky",
        "colab": {
          "base_uri": "https://localhost:8080/"
        },
        "outputId": "848b1daf-3545-457b-bbce-5016f0949caf"
      },
      "execution_count": null,
      "outputs": [
        {
          "output_type": "stream",
          "name": "stdout",
          "text": [
            "[311 986 594 ...  72  16 882]\n"
          ]
        },
        {
          "output_type": "stream",
          "name": "stderr",
          "text": [
            "/usr/local/lib/python3.7/dist-packages/ipykernel_launcher.py:3: DeprecationWarning: `np.int` is a deprecated alias for the builtin `int`. To silence this warning, use `int` by itself. Doing this will not modify any behavior and is safe. When replacing `np.int`, you may wish to use e.g. `np.int64` or `np.int32` to specify the precision. If you wish to review your current use, check the release note link for additional information.\n",
            "Deprecated in NumPy 1.20; for more details and guidance: https://numpy.org/devdocs/release/1.20.0-notes.html#deprecations\n",
            "  This is separate from the ipykernel package so we can avoid doing imports until\n"
          ]
        }
      ]
    },
    {
      "cell_type": "code",
      "source": [
        "%%timeit\n",
        "one_hot(y, N_CLASSES)\n"
      ],
      "metadata": {
        "id": "nlei7EydZIli",
        "colab": {
          "base_uri": "https://localhost:8080/"
        },
        "outputId": "0e0deab6-cad3-4009-835d-51ee7648cb56"
      },
      "execution_count": null,
      "outputs": [
        {
          "output_type": "stream",
          "name": "stdout",
          "text": [
            "1 loop, best of 5: 192 ms per loop\n"
          ]
        }
      ]
    },
    {
      "cell_type": "code",
      "source": [
        "x = one_hot(y, N_CLASSES)\n",
        "print(x[0,:])"
      ],
      "metadata": {
        "id": "-VfS1ccIwUop",
        "colab": {
          "base_uri": "https://localhost:8080/"
        },
        "outputId": "50fa412b-4c85-4934-f837-f8127455daba"
      },
      "execution_count": null,
      "outputs": [
        {
          "output_type": "stream",
          "name": "stdout",
          "text": [
            "[0. 0. 0. 0. 0. 0. 0. 0. 0. 0. 0. 0. 0. 0. 0. 0. 0. 0. 0. 0. 0. 0. 0. 0.\n",
            " 0. 0. 0. 0. 0. 0. 0. 0. 0. 0. 0. 0. 0. 0. 0. 0. 0. 0. 0. 0. 0. 0. 0. 0.\n",
            " 0. 0. 0. 0. 0. 0. 0. 0. 0. 0. 0. 0. 0. 0. 0. 0. 0. 0. 0. 0. 0. 0. 0. 0.\n",
            " 0. 0. 0. 0. 0. 0. 0. 0. 0. 0. 0. 0. 0. 0. 0. 0. 0. 0. 0. 0. 0. 0. 0. 0.\n",
            " 0. 0. 0. 0. 0. 0. 0. 0. 0. 0. 0. 0. 0. 0. 0. 0. 0. 0. 0. 0. 0. 0. 0. 0.\n",
            " 0. 0. 0. 0. 0. 0. 0. 0. 0. 0. 0. 0. 0. 0. 0. 0. 0. 0. 0. 0. 0. 0. 0. 0.\n",
            " 0. 0. 0. 0. 0. 0. 0. 0. 0. 0. 0. 0. 0. 0. 0. 0. 0. 0. 0. 0. 0. 0. 0. 0.\n",
            " 0. 0. 0. 0. 0. 0. 0. 0. 0. 0. 0. 0. 0. 0. 0. 0. 0. 0. 0. 0. 0. 0. 0. 0.\n",
            " 0. 0. 0. 0. 0. 0. 0. 0. 0. 0. 0. 0. 0. 0. 0. 0. 0. 0. 0. 0. 0. 0. 0. 0.\n",
            " 0. 0. 0. 0. 0. 0. 0. 0. 0. 0. 0. 0. 0. 0. 0. 0. 0. 0. 0. 0. 0. 0. 0. 0.\n",
            " 0. 0. 0. 0. 0. 0. 0. 0. 0. 0. 0. 0. 0. 0. 0. 0. 0. 0. 0. 0. 0. 0. 0. 0.\n",
            " 0. 0. 0. 0. 0. 0. 0. 0. 0. 0. 0. 0. 0. 0. 0. 0. 0. 0. 0. 0. 0. 0. 0. 0.\n",
            " 0. 0. 0. 0. 0. 0. 0. 0. 0. 0. 0. 0. 0. 0. 0. 0. 0. 0. 0. 0. 0. 0. 0. 1.\n",
            " 0. 0. 0. 0. 0. 0. 0. 0. 0. 0. 0. 0. 0. 0. 0. 0. 0. 0. 0. 0. 0. 0. 0. 0.\n",
            " 0. 0. 0. 0. 0. 0. 0. 0. 0. 0. 0. 0. 0. 0. 0. 0. 0. 0. 0. 0. 0. 0. 0. 0.\n",
            " 0. 0. 0. 0. 0. 0. 0. 0. 0. 0. 0. 0. 0. 0. 0. 0. 0. 0. 0. 0. 0. 0. 0. 0.\n",
            " 0. 0. 0. 0. 0. 0. 0. 0. 0. 0. 0. 0. 0. 0. 0. 0. 0. 0. 0. 0. 0. 0. 0. 0.\n",
            " 0. 0. 0. 0. 0. 0. 0. 0. 0. 0. 0. 0. 0. 0. 0. 0. 0. 0. 0. 0. 0. 0. 0. 0.\n",
            " 0. 0. 0. 0. 0. 0. 0. 0. 0. 0. 0. 0. 0. 0. 0. 0. 0. 0. 0. 0. 0. 0. 0. 0.\n",
            " 0. 0. 0. 0. 0. 0. 0. 0. 0. 0. 0. 0. 0. 0. 0. 0. 0. 0. 0. 0. 0. 0. 0. 0.\n",
            " 0. 0. 0. 0. 0. 0. 0. 0. 0. 0. 0. 0. 0. 0. 0. 0. 0. 0. 0. 0. 0. 0. 0. 0.\n",
            " 0. 0. 0. 0. 0. 0. 0. 0. 0. 0. 0. 0. 0. 0. 0. 0. 0. 0. 0. 0. 0. 0. 0. 0.\n",
            " 0. 0. 0. 0. 0. 0. 0. 0. 0. 0. 0. 0. 0. 0. 0. 0. 0. 0. 0. 0. 0. 0. 0. 0.\n",
            " 0. 0. 0. 0. 0. 0. 0. 0. 0. 0. 0. 0. 0. 0. 0. 0. 0. 0. 0. 0. 0. 0. 0. 0.\n",
            " 0. 0. 0. 0. 0. 0. 0. 0. 0. 0. 0. 0. 0. 0. 0. 0. 0. 0. 0. 0. 0. 0. 0. 0.\n",
            " 0. 0. 0. 0. 0. 0. 0. 0. 0. 0. 0. 0. 0. 0. 0. 0. 0. 0. 0. 0. 0. 0. 0. 0.\n",
            " 0. 0. 0. 0. 0. 0. 0. 0. 0. 0. 0. 0. 0. 0. 0. 0. 0. 0. 0. 0. 0. 0. 0. 0.\n",
            " 0. 0. 0. 0. 0. 0. 0. 0. 0. 0. 0. 0. 0. 0. 0. 0. 0. 0. 0. 0. 0. 0. 0. 0.\n",
            " 0. 0. 0. 0. 0. 0. 0. 0. 0. 0. 0. 0. 0. 0. 0. 0. 0. 0. 0. 0. 0. 0. 0. 0.\n",
            " 0. 0. 0. 0. 0. 0. 0. 0. 0. 0. 0. 0. 0. 0. 0. 0. 0. 0. 0. 0. 0. 0. 0. 0.\n",
            " 0. 0. 0. 0. 0. 0. 0. 0. 0. 0. 0. 0. 0. 0. 0. 0. 0. 0. 0. 0. 0. 0. 0. 0.\n",
            " 0. 0. 0. 0. 0. 0. 0. 0. 0. 0. 0. 0. 0. 0. 0. 0. 0. 0. 0. 0. 0. 0. 0. 0.\n",
            " 0. 0. 0. 0. 0. 0. 0. 0. 0. 0. 0. 0. 0. 0. 0. 0. 0. 0. 0. 0. 0. 0. 0. 0.\n",
            " 0. 0. 0. 0. 0. 0. 0. 0. 0. 0. 0. 0. 0. 0. 0. 0. 0. 0. 0. 0. 0. 0. 0. 0.\n",
            " 0. 0. 0. 0. 0. 0. 0. 0. 0. 0. 0. 0. 0. 0. 0. 0. 0. 0. 0. 0. 0. 0. 0. 0.\n",
            " 0. 0. 0. 0. 0. 0. 0. 0. 0. 0. 0. 0. 0. 0. 0. 0. 0. 0. 0. 0. 0. 0. 0. 0.\n",
            " 0. 0. 0. 0. 0. 0. 0. 0. 0. 0. 0. 0. 0. 0. 0. 0. 0. 0. 0. 0. 0. 0. 0. 0.\n",
            " 0. 0. 0. 0. 0. 0. 0. 0. 0. 0. 0. 0. 0. 0. 0. 0. 0. 0. 0. 0. 0. 0. 0. 0.\n",
            " 0. 0. 0. 0. 0. 0. 0. 0. 0. 0. 0. 0. 0. 0. 0. 0. 0. 0. 0. 0. 0. 0. 0. 0.\n",
            " 0. 0. 0. 0. 0. 0. 0. 0. 0. 0. 0. 0. 0. 0. 0. 0. 0. 0. 0. 0. 0. 0. 0. 0.\n",
            " 0. 0. 0. 0. 0. 0. 0. 0. 0. 0. 0. 0. 0. 0. 0. 0. 0. 0. 0. 0. 0. 0. 0. 0.\n",
            " 0. 0. 0. 0. 0. 0. 0. 0. 0. 0. 0. 0. 0. 0. 0. 0.]\n"
          ]
        }
      ]
    },
    {
      "cell_type": "markdown",
      "source": [
        "## Exercício 2.8\n",
        "\n",
        "Implemente uma classe que normalize um array de pontos flutuantes `array_a` para a mesma média e desvio padrão de um outro array `array_b`, conforme exemplo abaixo:\n",
        "```\n",
        "array_a = np.array([-1, 1.5, 0])\n",
        "array_b = np.array([1.4, 0.8, 0.3, 2.5])\n",
        "normalize = Normalizer(array_b)\n",
        "normalized_array = normalize(array_a)\n",
        "print(normalized_array)  # Deve imprimir [0.3187798  2.31425165 1.11696854]\n",
        "```"
      ],
      "metadata": {
        "id": "QA98TkwKZKkR"
      }
    },
    {
      "cell_type": "code",
      "source": [
        "import numpy as np "
      ],
      "metadata": {
        "id": "DwvA70IrkzZt"
      },
      "execution_count": null,
      "outputs": []
    },
    {
      "cell_type": "code",
      "source": [
        "# Escreva seu código aqui.\n",
        "class Normalizer:\n",
        "  def __init__(self, array_b):\n",
        "    self.b = np.array(array_b)\n",
        "    self.mB = np.mean(array_b)\n",
        "    self.sB = np.std(array_b)\n",
        "    self.scoreb = (array_b - self.mB) / self.sB\n",
        "  \n",
        "  def N(self,array_a):\n",
        "    self.a = np.array(array_a)\n",
        "    self.mA = np.mean(array_a)\n",
        "    self.sA = np.std(array_a)\n",
        "    return self.mB + (self.a - self.mA) * (self.sB/self.sA)"
      ],
      "metadata": {
        "id": "8jp3r3YdZQ4M"
      },
      "execution_count": null,
      "outputs": []
    },
    {
      "cell_type": "markdown",
      "source": [
        "Mostre que seu código está correto com o exemplo abaixo:"
      ],
      "metadata": {
        "id": "-pfjwinNmPa8"
      }
    },
    {
      "cell_type": "code",
      "source": [
        "array_a = [-1, 1.5, 0]\n",
        "array_b = [1.4, 0.8, 0.3, 2.5]\n",
        "normalize = Normalizer(array_b)\n",
        "normalized_array = normalize.N(array_a)\n",
        "print(normalized_array)"
      ],
      "metadata": {
        "id": "HAOpS7FdZbXh",
        "colab": {
          "base_uri": "https://localhost:8080/"
        },
        "outputId": "9ff670ca-e359-4efb-b066-c14df8e37d65"
      },
      "execution_count": null,
      "outputs": [
        {
          "output_type": "stream",
          "name": "stdout",
          "text": [
            "[0.3187798  2.31425165 1.11696854]\n"
          ]
        }
      ]
    },
    {
      "cell_type": "markdown",
      "source": [
        "# Parte 3:\n",
        "\n",
        "##Exercícios Pytorch: Grafo Computacional e Gradientes\n",
        "\n",
        "Nesta parte pode-se usar quaisquer bibliotecas."
      ],
      "metadata": {
        "id": "0z0K9GSCZdXR"
      }
    },
    {
      "cell_type": "markdown",
      "source": [
        "Um dos principais fundamentos para que o PyTorch seja adequado para deep learning é a sua habilidade de calcular o gradiente automaticamente a partir da expressões definidas. Essa facilidade é implementada através do cálculo automático do gradiente e construção dinâmica do grafo computacional."
      ],
      "metadata": {
        "id": "W5-pgzUsZgg6"
      }
    },
    {
      "cell_type": "markdown",
      "source": [
        "## Grafo computacional\n",
        "\n",
        "Seja um exemplo simples de uma função de perda J dada pela Soma dos Erros ao Quadrado (SEQ - Sum of Squared Errors): \n",
        "$$ J = \\sum_i (x_i w - y_i)^2 $$\n",
        "que pode ser reescrita como:\n",
        "$$ \\hat{y_i} = x_i w $$\n",
        "$$ e_i = \\hat{y_i} - y_i $$\n",
        "$$ e2_i = e_i^2 $$\n",
        "$$ J = \\sum_i e2_i $$\n",
        "\n",
        "As redes neurais são treinadas através da minimização de uma função de perda usando o método do gradiente descendente. Para ajustar o parâmetro $w$ precisamos calcular o gradiente $  \\frac{ \\partial J}{\\partial w} $. Usando a\n",
        "regra da cadeia podemos escrever:\n",
        "$$ \\frac{ \\partial J}{\\partial w} = \\frac{ \\partial J}{\\partial e2_i} \\frac{ \\partial e2_i}{\\partial e_i} \\frac{ \\partial e_i}{\\partial \\hat{y_i} } \\frac{ \\partial \\hat{y_i}}{\\partial w}$$ "
      ],
      "metadata": {
        "id": "RoFLk_53ZkTI"
      }
    },
    {
      "cell_type": "markdown",
      "source": [
        "```\n",
        "    y_pred = x * w\n",
        "    e = y_pred - y\n",
        "    e2 = e**2\n",
        "    J = e2.sum()\n",
        "```"
      ],
      "metadata": {
        "id": "WEJwz0htZpig"
      }
    },
    {
      "cell_type": "markdown",
      "source": [
        "As quatro expressões acima, para o cálculo do J podem ser representadas pelo grafo computacional visualizado a seguir: os círculos são as variáveis (tensores), os quadrados são as operações, os números em preto são os cálculos durante a execução das quatro expressões para calcular o J (forward, predict). O cálculo do gradiente, mostrado em vermelho, é calculado pela regra da cadeia, de trás para frente (backward)."
      ],
      "metadata": {
        "id": "ehawjqqYZuQq"
      }
    },
    {
      "cell_type": "markdown",
      "source": [
        "<img src=\"https://raw.githubusercontent.com/robertoalotufo/files/master/figures/GrafoComputacional.png\" width=\"600pt\"/>"
      ],
      "metadata": {
        "id": "uc0DNCtzZyAP"
      }
    },
    {
      "cell_type": "markdown",
      "source": [
        "\n",
        "```\n",
        "# Isto está formatado como código\n",
        "```\n",
        "\n",
        "Para entender melhor o funcionamento do grafo computacional com os tensores, recomenda-se leitura em:\n",
        "\n",
        "https://pytorch.org/docs/stable/notes/autograd.html"
      ],
      "metadata": {
        "id": "m4ivz6OOZ1I_"
      }
    },
    {
      "cell_type": "code",
      "source": [
        "import torch"
      ],
      "metadata": {
        "id": "Dv1cu0v6Z9d0"
      },
      "execution_count": null,
      "outputs": []
    },
    {
      "cell_type": "code",
      "source": [
        "torch.__version__"
      ],
      "metadata": {
        "id": "nKR8TmPBZ-x-",
        "colab": {
          "base_uri": "https://localhost:8080/",
          "height": 35
        },
        "outputId": "98015d6f-9779-42d5-9858-c5ee079a8acc"
      },
      "execution_count": null,
      "outputs": [
        {
          "output_type": "execute_result",
          "data": {
            "text/plain": [
              "'1.10.0+cu111'"
            ],
            "application/vnd.google.colaboratory.intrinsic+json": {
              "type": "string"
            }
          },
          "metadata": {},
          "execution_count": 3
        }
      ]
    },
    {
      "cell_type": "markdown",
      "source": [
        "**Tensor com atributo .requires_grad=True**\n",
        "\n",
        "Quando um tensor possui o atributo `requires_grad` como verdadeiro, qualquer expressão que utilizar esse tensor irá construir um grafo computacional para permitir posteriormente, após calcular a função a ser derivada, poder usar a regra da cadeia e calcular o gradiente da função em termos dos tensores que possuem o atributo `requires_grad`."
      ],
      "metadata": {
        "id": "sii-L0DZaFbw"
      }
    },
    {
      "cell_type": "code",
      "source": [
        "y = torch.arange(0, 8, 2).float()\n",
        "y"
      ],
      "metadata": {
        "id": "C91jvu3taIr0",
        "colab": {
          "base_uri": "https://localhost:8080/"
        },
        "outputId": "df3ee87a-99a0-4a4e-c18b-4df2e8674b00"
      },
      "execution_count": null,
      "outputs": [
        {
          "output_type": "execute_result",
          "data": {
            "text/plain": [
              "tensor([0., 2., 4., 6.])"
            ]
          },
          "metadata": {},
          "execution_count": 4
        }
      ]
    },
    {
      "cell_type": "code",
      "source": [
        "x = torch.arange(0, 4).float()\n",
        "x"
      ],
      "metadata": {
        "id": "qxBdBgp0aLFP",
        "colab": {
          "base_uri": "https://localhost:8080/"
        },
        "outputId": "b6b428ba-a11b-486e-c6cd-b82d3a6bb0a3"
      },
      "execution_count": null,
      "outputs": [
        {
          "output_type": "execute_result",
          "data": {
            "text/plain": [
              "tensor([0., 1., 2., 3.])"
            ]
          },
          "metadata": {},
          "execution_count": 5
        }
      ]
    },
    {
      "cell_type": "code",
      "source": [
        "w = torch.ones(1, requires_grad=True)\n",
        "w"
      ],
      "metadata": {
        "id": "hAu0ENK7aVpc",
        "colab": {
          "base_uri": "https://localhost:8080/"
        },
        "outputId": "be1a6fc1-dd84-47a6-e806-fbf7bb664283"
      },
      "execution_count": null,
      "outputs": [
        {
          "output_type": "execute_result",
          "data": {
            "text/plain": [
              "tensor([1.], requires_grad=True)"
            ]
          },
          "metadata": {},
          "execution_count": 6
        }
      ]
    },
    {
      "cell_type": "markdown",
      "source": [
        "## Cálculo automático do gradiente da função perda J"
      ],
      "metadata": {
        "id": "Zj6DDisGaaNu"
      }
    },
    {
      "cell_type": "markdown",
      "source": [
        "Seja a expressão: $$ J = \\sum_i ((x_i  w) - y_i)^2 $$\n",
        "\n",
        "Queremos calcular a derivada de $J$ em relação a $w$."
      ],
      "metadata": {
        "id": "z4MS5NUAaa45"
      }
    },
    {
      "cell_type": "markdown",
      "source": [
        "Forward pass\n",
        "Durante a execução da expressão, o grafo computacional é criado. Compare os valores de cada parcela calculada com os valores em preto da figura ilustrativa do grafo computacional."
      ],
      "metadata": {
        "id": "tc59u757ae-c"
      }
    },
    {
      "cell_type": "code",
      "source": [
        "# predict (forward)\n",
        "y_pred = x * w; print('y_pred =', y_pred)\n",
        "\n",
        "# cálculo da perda J: loss\n",
        "e = y_pred - y; print('e =',e)\n",
        "e2 = e.pow(2) ; print('e2 =', e2)\n",
        "J = e2.sum()  ; print('J =', J)"
      ],
      "metadata": {
        "id": "SfD6t3wUaiBX",
        "colab": {
          "base_uri": "https://localhost:8080/"
        },
        "outputId": "423b6ee4-20a3-425f-b809-10ffca38554c"
      },
      "execution_count": null,
      "outputs": [
        {
          "output_type": "stream",
          "name": "stdout",
          "text": [
            "y_pred = tensor([0., 1., 2., 3.], grad_fn=<MulBackward0>)\n",
            "e = tensor([ 0., -1., -2., -3.], grad_fn=<SubBackward0>)\n",
            "e2 = tensor([0., 1., 4., 9.], grad_fn=<PowBackward0>)\n",
            "J = tensor(14., grad_fn=<SumBackward0>)\n"
          ]
        }
      ]
    },
    {
      "cell_type": "markdown",
      "source": [
        "\n",
        "\n",
        "```\n",
        "# Isto está formatado como código\n",
        "```\n",
        "\n",
        "## Backward pass"
      ],
      "metadata": {
        "id": "vM5W_WJcakNu"
      }
    },
    {
      "cell_type": "markdown",
      "source": [
        "O `backward()` varre o grafo computacional a partir da variável a ele associada (raiz) e calcula o gradiente para todos os tensores que possuem o atributo `requires_grad` como verdadeiro.\n",
        "Observe que os tensores que tiverem o atributo `requires_grad` serão sempre folhas no grafo computacional.\n",
        "O `backward()` destroi o grafo após sua execução. Esse comportamento é padrão no PyTorch. \n",
        "\n",
        "A título ilustrativo, se quisermos depurar os gradientes dos nós que não são folhas no grafo computacional, precisamos primeiro invocar `retain_grad()` em cada um desses nós, como a seguir. Entretanto nos exemplos reais não há necessidade de verificar o gradiente desses nós."
      ],
      "metadata": {
        "id": "Kxx33xLianYL"
      }
    },
    {
      "cell_type": "code",
      "source": [
        "e2.retain_grad()\n",
        "e.retain_grad()\n",
        "y_pred.retain_grad()"
      ],
      "metadata": {
        "id": "mdBh-OUpawvg"
      },
      "execution_count": null,
      "outputs": []
    },
    {
      "cell_type": "markdown",
      "source": [
        "E agora calculamos os gradientes com o `backward()`.\n",
        "\n",
        "w.grad é o gradiente de J em relação a w."
      ],
      "metadata": {
        "id": "bKejABZlay8h"
      }
    },
    {
      "cell_type": "code",
      "source": [
        "if w.grad: w.grad.zero_()\n",
        "J.backward()\n",
        "print(w.grad)"
      ],
      "metadata": {
        "id": "rVMPg4Lua1_O",
        "colab": {
          "base_uri": "https://localhost:8080/"
        },
        "outputId": "13de0601-db56-4ada-8130-c705a2c1f9aa"
      },
      "execution_count": null,
      "outputs": [
        {
          "output_type": "stream",
          "name": "stdout",
          "text": [
            "tensor([-28.])\n"
          ]
        }
      ]
    },
    {
      "cell_type": "markdown",
      "source": [
        "Mostramos agora os gradientes que estão grafados em vermelho no grafo computacional:"
      ],
      "metadata": {
        "id": "gSmAnZGEa4G3"
      }
    },
    {
      "cell_type": "code",
      "source": [
        "print(e2.grad)\n",
        "print(e.grad)\n",
        "print(y_pred.grad)"
      ],
      "metadata": {
        "id": "vrdCcc1oa59i",
        "colab": {
          "base_uri": "https://localhost:8080/"
        },
        "outputId": "9c9c1af8-e6fd-4480-b08b-7d0279cfb025"
      },
      "execution_count": null,
      "outputs": [
        {
          "output_type": "stream",
          "name": "stdout",
          "text": [
            "tensor([1., 1., 1., 1.])\n",
            "tensor([ 0., -2., -4., -6.])\n",
            "tensor([ 0., -2., -4., -6.])\n"
          ]
        }
      ]
    },
    {
      "cell_type": "markdown",
      "source": [
        "##Exercício 3.1\n",
        "Calcule o mesmo gradiente ilustrado no exemplo anterior usando a regra das diferenças finitas, de acordo com a equação a seguir, utilizando um valor de $\\Delta w$ bem pequeno.\n",
        "\n",
        "$$ \\frac{\\partial J}{\\partial w} = \\frac{J(w + \\Delta w) - J(w - \\Delta w)}{2 \\Delta w} $$"
      ],
      "metadata": {
        "id": "TuUIgbpDa7w0"
      }
    },
    {
      "cell_type": "code",
      "source": [
        "def J_func(w, x, y):\n",
        "    # programe a função J_func, para facilitar\n",
        "    y_pred = x * w\n",
        "    e = y_pred - y\n",
        "    e2 = e.pow(2)\n",
        "    J = e2.sum()\n",
        "    return J\n",
        "\n",
        "# Calcule o gradiente usando a regra diferenças finitas\n",
        "# Confira com o valor já calculado anteriormente\n",
        "x = torch.arange(0, 4).float()\n",
        "y = torch.arange(0, 8, 2).float()\n",
        "w = torch.ones(1)\n",
        "dW = 0.0001  \n",
        "j = J_func\n",
        "\n",
        "grad = (j(w + dW, x, y) - j(w - dW, x, y))/(2*dW)\n",
        "print('grad=', grad)"
      ],
      "metadata": {
        "id": "Zi2o6UR8bAsC",
        "colab": {
          "base_uri": "https://localhost:8080/"
        },
        "outputId": "dd92dfa9-befe-48bb-db17-193ab0fd2d99"
      },
      "execution_count": null,
      "outputs": [
        {
          "output_type": "stream",
          "name": "stdout",
          "text": [
            "grad= tensor(-27.9999)\n"
          ]
        }
      ]
    },
    {
      "cell_type": "markdown",
      "source": [
        "##Exercício 3.2\n",
        "\n",
        "Minimizando $J$ pelo gradiente descendente\n",
        "\n",
        "$$ w_{k+1} = w_k - \\lambda \\frac {\\partial J}{\\partial w} $$\n",
        "\n",
        "Supondo que valor inicial ($k=0$) $w_0 = 1$, use learning rate $\\lambda = 0.01$ para calcular o valor do novo $w_{20}$, ou seja, fazendo 20 atualizações de gradientes. Deve-se usar a função `J_func` criada no exercício anterior.\n",
        "\n",
        "Confira se o valor do primeiro gradiente está de acordo com os valores já calculado acima"
      ],
      "metadata": {
        "id": "WtrQDSJ8bEh8"
      }
    },
    {
      "cell_type": "code",
      "source": [
        "import matplotlib.pyplot as plt\n",
        "learning_rate = 0.01\n",
        "iteracoes = 20\n",
        "\n",
        "x = torch.arange(0, 4).float()\n",
        "y = torch.arange(0, 8, 2).float()\n",
        "w = torch.ones(1)\n",
        "xVet = []\n",
        "yVet = []\n",
        "for i in range(iteracoes):\n",
        "    print('i =', i)\n",
        "    yVet.append(i)\n",
        "    J = J_func(w, x, y)\n",
        "    print('J=', J)\n",
        "    xVet.append(J)\n",
        "    grad = (j(w + dW, x, y) - j(w - dW, x, y))/(2*dW)\n",
        "    print('grad =',grad)\n",
        "    w = w - learning_rate* grad\n",
        "    print('w =', w)\n",
        "\n",
        "# Plote o gráfico da loss J pela iteração i\n",
        "plt.plot(xVet,yVet,color=\"blue\")\n",
        "plt.scatter(xVet,yVet,color=\"red\")\n",
        "plt.grid()\n",
        "plt.show()"
      ],
      "metadata": {
        "id": "p502AM-cbHvn",
        "colab": {
          "base_uri": "https://localhost:8080/",
          "height": 1000
        },
        "outputId": "41f05977-490e-4467-bc4a-dc8c4a9a7c01"
      },
      "execution_count": null,
      "outputs": [
        {
          "output_type": "stream",
          "name": "stdout",
          "text": [
            "i = 0\n",
            "J= tensor(14.)\n",
            "grad = tensor(-27.9999)\n",
            "w = tensor([1.2800])\n",
            "i = 1\n",
            "J= tensor(7.2576)\n",
            "grad = tensor(-20.1607)\n",
            "w = tensor([1.4816])\n",
            "i = 2\n",
            "J= tensor(3.7623)\n",
            "grad = tensor(-14.5137)\n",
            "w = tensor([1.6267])\n",
            "i = 3\n",
            "J= tensor(1.9505)\n",
            "grad = tensor(-10.4505)\n",
            "w = tensor([1.7312])\n",
            "i = 4\n",
            "J= tensor(1.0112)\n",
            "grad = tensor(-7.5281)\n",
            "w = tensor([1.8065])\n",
            "i = 5\n",
            "J= tensor(0.5240)\n",
            "grad = tensor(-5.4196)\n",
            "w = tensor([1.8607])\n",
            "i = 6\n",
            "J= tensor(0.2716)\n",
            "grad = tensor(-3.9014)\n",
            "w = tensor([1.8997])\n",
            "i = 7\n",
            "J= tensor(0.1407)\n",
            "grad = tensor(-2.8086)\n",
            "w = tensor([1.9278])\n",
            "i = 8\n",
            "J= tensor(0.0729)\n",
            "grad = tensor(-2.0218)\n",
            "w = tensor([1.9480])\n",
            "i = 9\n",
            "J= tensor(0.0378)\n",
            "grad = tensor(-1.4555)\n",
            "w = tensor([1.9626])\n",
            "i = 10\n",
            "J= tensor(0.0196)\n",
            "grad = tensor(-1.0472)\n",
            "w = tensor([1.9731])\n",
            "i = 11\n",
            "J= tensor(0.0102)\n",
            "grad = tensor(-0.7540)\n",
            "w = tensor([1.9806])\n",
            "i = 12\n",
            "J= tensor(0.0053)\n",
            "grad = tensor(-0.5432)\n",
            "w = tensor([1.9860])\n",
            "i = 13\n",
            "J= tensor(0.0027)\n",
            "grad = tensor(-0.3910)\n",
            "w = tensor([1.9900])\n",
            "i = 14\n",
            "J= tensor(0.0014)\n",
            "grad = tensor(-0.2814)\n",
            "w = tensor([1.9928])\n",
            "i = 15\n",
            "J= tensor(0.0007)\n",
            "grad = tensor(-0.2027)\n",
            "w = tensor([1.9948])\n",
            "i = 16\n",
            "J= tensor(0.0004)\n",
            "grad = tensor(-0.1458)\n",
            "w = tensor([1.9962])\n",
            "i = 17\n",
            "J= tensor(0.0002)\n",
            "grad = tensor(-0.1051)\n",
            "w = tensor([1.9973])\n",
            "i = 18\n",
            "J= tensor(0.0001)\n",
            "grad = tensor(-0.0756)\n",
            "w = tensor([1.9981])\n",
            "i = 19\n",
            "J= tensor(5.2911e-05)\n",
            "grad = tensor(-0.0544)\n",
            "w = tensor([1.9986])\n"
          ]
        },
        {
          "output_type": "display_data",
          "data": {
            "text/plain": [
              "<Figure size 432x288 with 1 Axes>"
            ],
            "image/png": "[encoded data removed]"
          },
          "metadata": {
            "needs_background": "light"
          }
        }
      ]
    },
    {
      "cell_type": "markdown",
      "source": [
        "##Exercício 3.3\n",
        "\n",
        "Repita o exercício 2 mas usando agora o calculando o gradiente usando o método backward() do pytorch. Confira se o primeiro valor do gradiente está de acordo com os valores anteriores. Execute essa próxima célula duas vezes. Os valores devem ser iguais."
      ],
      "metadata": {
        "id": "TeUU389rbLD2"
      }
    },
    {
      "cell_type": "code",
      "source": [
        "learning_rate = 0.01\n",
        "iteracoes = 20\n",
        "\n",
        "x = torch.arange(0, 4).float()\n",
        "y = torch.arange(0, 8, 2).float()\n",
        "w = torch.ones(1, requires_grad=True)\n",
        "xVet = []\n",
        "yVet = []\n",
        "for i in range(iteracoes):\n",
        "    print('i =', i)\n",
        "    yVet.append(i)\n",
        "    J = J_func(w, x, y)\n",
        "    xVet.append(J.detach( ))\n",
        "    print('J=', J.detach( ))\n",
        "    if w.grad: w.grad.zero_()\n",
        "    J.backward()\n",
        "    grad = w.grad\n",
        "    print('grad =',grad.item())\n",
        "    w = w - learning_rate* grad.item()\n",
        "    w.retain_grad()\n",
        "    print('w =', w.detach( ))\n",
        "\n",
        "# Plote aqui a loss pela iteração\n",
        "plt.plot(xVet,yVet,color=\"blue\")\n",
        "plt.scatter(xVet,yVet,color=\"red\")\n",
        "plt.grid()\n",
        "plt.show()"
      ],
      "metadata": {
        "id": "e0IBUSQSbNbG",
        "colab": {
          "base_uri": "https://localhost:8080/",
          "height": 1000
        },
        "outputId": "7382aaa0-df90-4974-d39d-22f325fa41bb"
      },
      "execution_count": null,
      "outputs": [
        {
          "output_type": "stream",
          "name": "stdout",
          "text": [
            "i = 0\n",
            "J= tensor(14.)\n",
            "grad = -28.0\n",
            "w = tensor([1.2800])\n",
            "i = 1\n",
            "J= tensor(7.2576)\n",
            "grad = -20.160001754760742\n",
            "w = tensor([1.4816])\n",
            "i = 2\n",
            "J= tensor(3.7623)\n",
            "grad = -14.51519775390625\n",
            "w = tensor([1.6268])\n",
            "i = 3\n",
            "J= tensor(1.9504)\n",
            "grad = -10.450942993164062\n",
            "w = tensor([1.7313])\n",
            "i = 4\n",
            "J= tensor(1.0111)\n",
            "grad = -7.52467679977417\n",
            "w = tensor([1.8065])\n",
            "i = 5\n",
            "J= tensor(0.5241)\n",
            "grad = -5.417766094207764\n",
            "w = tensor([1.8607])\n",
            "i = 6\n",
            "J= tensor(0.2717)\n",
            "grad = -3.9007928371429443\n",
            "w = tensor([1.8997])\n",
            "i = 7\n",
            "J= tensor(0.1409)\n",
            "grad = -2.808573007583618\n",
            "w = tensor([1.9278])\n",
            "i = 8\n",
            "J= tensor(0.0730)\n",
            "grad = -2.0221731662750244\n",
            "w = tensor([1.9480])\n",
            "i = 9\n",
            "J= tensor(0.0379)\n",
            "grad = -1.455965280532837\n",
            "w = tensor([1.9626])\n",
            "i = 10\n",
            "J= tensor(0.0196)\n",
            "grad = -1.0482935905456543\n",
            "w = tensor([1.9730])\n",
            "i = 11\n",
            "J= tensor(0.0102)\n",
            "grad = -0.7547743320465088\n",
            "w = tensor([1.9806])\n",
            "i = 12\n",
            "J= tensor(0.0053)\n",
            "grad = -0.5434384346008301\n",
            "w = tensor([1.9860])\n",
            "i = 13\n",
            "J= tensor(0.0027)\n",
            "grad = -0.39127326011657715\n",
            "w = tensor([1.9899])\n",
            "i = 14\n",
            "J= tensor(0.0014)\n",
            "grad = -0.281719446182251\n",
            "w = tensor([1.9928])\n",
            "i = 15\n",
            "J= tensor(0.0007)\n",
            "grad = -0.20283913612365723\n",
            "w = tensor([1.9948])\n",
            "i = 16\n",
            "J= tensor(0.0004)\n",
            "grad = -0.14604616165161133\n",
            "w = tensor([1.9962])\n",
            "i = 17\n",
            "J= tensor(0.0002)\n",
            "grad = -0.10515189170837402\n",
            "w = tensor([1.9973])\n",
            "i = 18\n",
            "J= tensor(0.0001)\n",
            "grad = -0.07571077346801758\n",
            "w = tensor([1.9981])\n",
            "i = 19\n",
            "J= tensor(5.3059e-05)\n",
            "grad = -0.054509878158569336\n",
            "w = tensor([1.9986])\n"
          ]
        },
        {
          "output_type": "display_data",
          "data": {
            "text/plain": [
              "<Figure size 432x288 with 1 Axes>"
            ],
            "image/png": "[encoded data removed]"
          },
          "metadata": {
            "needs_background": "light"
          }
        }
      ]
    },
    {
      "cell_type": "markdown",
      "source": [
        "##Exercício 3.4\n",
        "\n",
        "Quais são as restrições na escolha dos valores de $\\Delta w$ no cálculo do gradiente por diferenças finitas?"
      ],
      "metadata": {
        "id": "4_LZWjqqbSbU"
      }
    },
    {
      "cell_type": "markdown",
      "source": [
        "R: Caso delta w seja um valor de grandeza muito pequeno o cálculo do gradiente vai resultar em 0, o mesmo acontece se for subindo o seu valor.   "
      ],
      "metadata": {
        "id": "VQ3f7KCsH_JP"
      }
    },
    {
      "cell_type": "markdown",
      "source": [
        "##Exercício 3.5\n",
        "\n",
        "Até agora trabalhamos com $w$ contendo apenas um parâmetro. Suponha agora que $w$ seja uma matriz com $N$ parâmetros e que o custo para executar $(x_i w - y_i)^2$ seja $O(N)$.\n",
        "> a) Qual é o custo computacional para fazer uma única atualização (um passo de gradiente) dos parâmetros de $w$ usando o método das diferencas finitas?\n",
        ">\n",
        "> b) Qual é o custo computacional para fazer uma única atualização (um passo de gradiente) dos parâmetros de $w$ usando o método do backpropagation?"
      ],
      "metadata": {
        "id": "7MLdWhXEbemx"
      }
    },
    {
      "cell_type": "markdown",
      "source": [
        "A: Por w ser uma matriz com N parâmetros é necessário utilizar todos os elementos de w para calcular a função j, com isso seu custo computacional seria $O(N)N$\n",
        "\n",
        "B:Como o backpropagation calcula o gradiente da função perda para cada peso pela regra da cadeia o custo computacional é mais otmizado, ficando $O(N)$"
      ],
      "metadata": {
        "id": "ur1dHYSwMND1"
      }
    },
    {
      "cell_type": "markdown",
      "source": [
        "##Exercício 3.6\n",
        "\n",
        "Qual o custo (entropia cruzada) esperado para um exemplo (uma amostra) no começo do treinamento de um classificador inicializado aleatoriamente?\n",
        "\n",
        "A equação da entropia cruzada é:\n",
        "$$L = - \\sum_{j=0}^{K-1} y_j \\log p_j, $$\n",
        "Onde:\n",
        "\n",
        "- K é o número de classes;\n",
        "\n",
        "- $y_j=1$ se $j$ é a classe do exemplo (ground-truth), 0 caso contrário. Ou seja, $y$ é um vetor one-hot;\n",
        "\n",
        "- $p_j$ é a probabilidade predita pelo modelo para a classe $j$.\n",
        "\n",
        "A resposta tem que ser em função de uma ou mais das seguintes variáveis:\n",
        "\n",
        "- K = número de classes\n",
        "\n",
        "- B = batch size"
      ],
      "metadata": {
        "id": "-81LppH5bmVH"
      }
    },
    {
      "cell_type": "markdown",
      "source": [
        "**Resposta**:\n",
        "$$sendo:  1/K = p_j $$ \n",
        "substituindo na fórmula fica: $$L = -  \\log(1/K) $$"
      ],
      "metadata": {
        "id": "_GHo57YCbrfO"
      }
    }
  ]
}